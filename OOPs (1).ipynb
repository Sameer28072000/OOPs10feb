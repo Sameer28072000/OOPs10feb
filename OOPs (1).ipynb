{
 "cells": [
  {
   "cell_type": "markdown",
   "id": "c159220f-69be-4961-b0f9-c4b04c3f1730",
   "metadata": {},
   "source": [
    "Q1. Which function is used to open a file? What are the different modes of opening a file? Explain each mode\n",
    "of file opening."
   ]
  },
  {
   "cell_type": "code",
   "execution_count": null,
   "id": "da5820e1-2777-432c-8616-d9c695e40df2",
   "metadata": {},
   "outputs": [],
   "source": [
    "Ans:-\n",
    "      Different modes of opening a file:-\n",
    "      i.'r'(Read mode):\n",
    "            It opens the file in read-only mode.\n",
    "            If the file does not exist, it raises a FileNotFoundError\n",
    "        ii.'w'(Write mode):\n",
    "            It opens the file in write mode.\n",
    "            If the file does not exist, it creates a new file.\n",
    "        iii.'a'(Append mode):\n",
    "            It opens the file in append mode.\n",
    "            If the file does not exist, it creates a new file."
   ]
  },
  {
   "cell_type": "markdown",
   "id": "647b6af3-5424-46df-925a-5f854617533c",
   "metadata": {},
   "source": [
    "Q2. Why close() function is used? Why is it important to close a file?"
   ]
  },
  {
   "cell_type": "code",
   "execution_count": null,
   "id": "7ac63e52-dda9-4afe-b1ca-afc1e61c0a63",
   "metadata": {},
   "outputs": [],
   "source": [
    "Ans:-close() function is used to close file in python."
   ]
  },
  {
   "cell_type": "code",
   "execution_count": null,
   "id": "58474406-fba5-49a8-a4bc-6300409a73cb",
   "metadata": {},
   "outputs": [],
   "source": [
    "file = open(\"example.txt\", \"r\")\n",
    "# Perform file operations\n",
    "\n",
    "file.close()"
   ]
  },
  {
   "cell_type": "markdown",
   "id": "f7fc1e8b-1311-408d-bd1c-99fffd5d4f85",
   "metadata": {},
   "source": [
    "Q3. Write a python program to create a text file. Write ‘I want to become a Data Scientist’ in that file. Then\n",
    "close the file. Open this file and read the content of the file."
   ]
  },
  {
   "cell_type": "code",
   "execution_count": 3,
   "id": "bf293c37-3b0f-4c50-bfea-028769071538",
   "metadata": {},
   "outputs": [
    {
     "name": "stdout",
     "output_type": "stream",
     "text": [
      "I want to become a Data Scientist\n"
     ]
    }
   ],
   "source": [
    "file_name = (\"example.txt\")\n",
    "content = (\"I want to become a Data Scientist\")\n",
    "\n",
    "# Open the file in write mode\n",
    "file = open(file_name, \"w\")\n",
    "\n",
    "# Write the content to the file\n",
    "file.write(content)\n",
    "\n",
    "# Close the file\n",
    "file.close()\n",
    "\n",
    "# Open the file in read mode\n",
    "file = open(file_name, \"r\")\n",
    "\n",
    "# Read and print the content of the file\n",
    "file_content = file.read()\n",
    "print(file_content)\n",
    "\n",
    "# Close the file\n",
    "file.close()"
   ]
  },
  {
   "cell_type": "markdown",
   "id": "bc29112d-e7dc-4e87-8d42-6da2a1495988",
   "metadata": {},
   "source": [
    "Q4. Explain the following with python code: read(), readline() and readlines()."
   ]
  },
  {
   "cell_type": "code",
   "execution_count": null,
   "id": "c33464e6-1c5b-46a4-be68-a2355781d41a",
   "metadata": {},
   "outputs": [],
   "source": [
    "Ans:-\n",
    "     i.read(): The read() method is used to read the entire content of a file as a single string.\n",
    "    \n",
    "        file = open(\"example.txt\", \"r\")\n",
    "        content = file.read()\n",
    "        print(content)\n",
    "        file.close()"
   ]
  },
  {
   "cell_type": "code",
   "execution_count": null,
   "id": "706a4169-a56f-4531-a7bb-6ceef588b9d4",
   "metadata": {},
   "outputs": [],
   "source": [
    "     ii.readline(): The readline() method is used to read a single line from the file.\n",
    "      \n",
    "        file = open(\"example.txt\", \"r\")\n",
    "        line1 = file.readline()\n",
    "        line2 = file.readline()\n",
    "        print(line1)\n",
    "        print(line2)\n",
    "        file.close()"
   ]
  },
  {
   "cell_type": "code",
   "execution_count": null,
   "id": "4b0427b1-d67d-4326-a806-6d47cece78c2",
   "metadata": {},
   "outputs": [],
   "source": [
    "  iii. readlines(): The readlines() method is used to read all the lines from the file and returns them as a list of strings.\n",
    "    \n",
    "    file = open(\"example.txt\", \"r\")\n",
    "    lines = file.readlines()\n",
    "    for line in lines:\n",
    "    print(line)\n",
    "    file.close()"
   ]
  },
  {
   "cell_type": "markdown",
   "id": "99254538-a27a-4587-a05e-dc0175f0bcf8",
   "metadata": {},
   "source": [
    "Q5. Explain why with statement is used with open(). What is the advantage of using with statement and\n",
    "open() together?"
   ]
  },
  {
   "cell_type": "code",
   "execution_count": null,
   "id": "933694b8-2683-4afb-8640-84089ff76b58",
   "metadata": {},
   "outputs": [],
   "source": [
    "Ans:-The with statement in Python is used in conjunction with the open() function to ensure \n",
    "       proper handling of files. \n",
    "    \n",
    "     The advantage of using with statement and open() together it is automatically handles the closing of the file."
   ]
  },
  {
   "cell_type": "markdown",
   "id": "b86d0b58-aa20-4c60-83bc-bd4d7b8dfd15",
   "metadata": {},
   "source": [
    "Q6. Explain the write() and writelines() functions. Give a suitable example."
   ]
  },
  {
   "cell_type": "code",
   "execution_count": null,
   "id": "0da92a41-c56d-4d94-9ad5-149821e66642",
   "metadata": {},
   "outputs": [],
   "source": [
    "Ans:-The write() and writelines() functions are used to write data to a file in Python."
   ]
  },
  {
   "cell_type": "code",
   "execution_count": null,
   "id": "b48449e2-cb19-4d0e-bad7-37628130ef74",
   "metadata": {},
   "outputs": [],
   "source": [
    " i. write(): The write() function is used to write a single string of data to a file."
   ]
  },
  {
   "cell_type": "code",
   "execution_count": null,
   "id": "0d2fa64e-74b4-43e8-a05d-875b31bc052c",
   "metadata": {},
   "outputs": [],
   "source": [
    "file = open(\"example.txt\", \"w\")\n",
    "file.write(\"Hello, World!\\n\")\n",
    "file.write(\"This is a sample text.\")\n",
    "file.close()"
   ]
  },
  {
   "cell_type": "code",
   "execution_count": null,
   "id": "93505fac-9a12-4092-900b-337e0159c239",
   "metadata": {},
   "outputs": [],
   "source": [
    " ii."
   ]
  }
 ],
 "metadata": {
  "kernelspec": {
   "display_name": "Python 3 (ipykernel)",
   "language": "python",
   "name": "python3"
  },
  "language_info": {
   "codemirror_mode": {
    "name": "ipython",
    "version": 3
   },
   "file_extension": ".py",
   "mimetype": "text/x-python",
   "name": "python",
   "nbconvert_exporter": "python",
   "pygments_lexer": "ipython3",
   "version": "3.10.8"
  }
 },
 "nbformat": 4,
 "nbformat_minor": 5
}
